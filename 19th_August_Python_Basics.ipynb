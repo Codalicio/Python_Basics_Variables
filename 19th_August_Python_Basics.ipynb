{
 "cells": [
  {
   "cell_type": "code",
   "execution_count": 1,
   "id": "5af8e4f7-58d4-41ac-b8ef-1543ddc1db30",
   "metadata": {},
   "outputs": [],
   "source": [
    "# Python Basics Variable :"
   ]
  },
  {
   "cell_type": "code",
   "execution_count": 5,
   "id": "b4152737-1bae-4ca0-824c-96c7de25a030",
   "metadata": {},
   "outputs": [
    {
     "name": "stdout",
     "output_type": "stream",
     "text": [
      "8 6\n"
     ]
    }
   ],
   "source": [
    "'''1.) Declare two variables, `x` and `y`, and assign them integer values. Swap the\n",
    "values of these variables without using any temporary variable.'''\n",
    "\n",
    "x, y = 6, 8\n",
    "x, y = y, x\n",
    "print(x, y)"
   ]
  },
  {
   "cell_type": "code",
   "execution_count": 7,
   "id": "355c8c2e-2487-45ca-9670-572fa3396f87",
   "metadata": {},
   "outputs": [
    {
     "name": "stdin",
     "output_type": "stream",
     "text": [
      "Enter the length of the rectangle in cm:\n",
      " 45\n",
      "Enter the width of the rectangle cm:\n",
      " 2\n"
     ]
    },
    {
     "name": "stdout",
     "output_type": "stream",
     "text": [
      "Area of the rectangle : 90.0cm²\n"
     ]
    }
   ],
   "source": [
    "'''2. Create a program that calculates the area of a rectangle. Take the length and\n",
    "width as inputs from the user and store them in variables. Calculate and\n",
    "display the area.'''\n",
    "\n",
    "length = float(input(\"Enter the length of the rectangle in cm:\\n\"))\n",
    "width = float(input(\"Enter the width of the rectangle cm:\\n\"))\n",
    "area_of_rectangle = length * width\n",
    "print(f\"Area of the rectangle : {area_of_rectangle}cm\\u00b2\")"
   ]
  },
  {
   "cell_type": "code",
   "execution_count": 13,
   "id": "0b07ac2a-a7e5-4df7-81a8-8e1d063cfc1d",
   "metadata": {},
   "outputs": [
    {
     "name": "stdin",
     "output_type": "stream",
     "text": [
      "Enter temperature in Celsius:\n",
      " 20\n"
     ]
    },
    {
     "name": "stdout",
     "output_type": "stream",
     "text": [
      "20°C = 68.0°F\n"
     ]
    }
   ],
   "source": [
    "'''3. Write a Python program that converts temperatures from Celsius to\n",
    "Fahrenheit. Take the temperature in Celsius as input, store it in a variable,\n",
    "convert it to Fahrenheit, and display the result.'''\n",
    "\n",
    "temp_in_celsius = int(input(\"Enter temperature in Celsius:\\n\"))\n",
    "temp_in_fahrenheit = float(temp_in_celsius * 9 / 5 + 32)\n",
    "print(f\"{temp_in_celsius}°C = {temp_in_fahrenheit}°F\")"
   ]
  },
  {
   "cell_type": "code",
   "execution_count": 14,
   "id": "9a227e90-53db-4c4f-b7fe-957254bd12df",
   "metadata": {},
   "outputs": [],
   "source": [
    "# String Based Questions:"
   ]
  },
  {
   "cell_type": "code",
   "execution_count": 16,
   "id": "0e7f64d6-3492-46a2-99c7-1e451e841e38",
   "metadata": {},
   "outputs": [
    {
     "name": "stdin",
     "output_type": "stream",
     "text": [
      "Enter a string:\n",
      " Amit Raj\n"
     ]
    },
    {
     "name": "stdout",
     "output_type": "stream",
     "text": [
      "8\n"
     ]
    }
   ],
   "source": [
    "'''1. Write a Python program that takes a string as input and prints the length of\n",
    "the string.'''\n",
    "\n",
    "string = input(\"Enter a string:\\n\")\n",
    "length_of_string = len(string)\n",
    "print(length_of_string)"
   ]
  },
  {
   "cell_type": "code",
   "execution_count": 22,
   "id": "12cba687-cb02-4d66-928a-8f7e2eea0525",
   "metadata": {},
   "outputs": [
    {
     "name": "stdin",
     "output_type": "stream",
     "text": [
      "Enter a sentence :\n",
      " i live at hajipur vaishali bihar\n"
     ]
    },
    {
     "name": "stdout",
     "output_type": "stream",
     "text": [
      "13\n"
     ]
    }
   ],
   "source": [
    "'''2. Create a program that takes a sentence from the user and counts the number\n",
    "of vowels (a, e, i, o, u) in the string.'''\n",
    "\n",
    "sentence = input(\"Enter a sentence :\\n\")\n",
    "a = sentence.count('a')\n",
    "e = sentence.count('e')\n",
    "i = sentence.count('i')\n",
    "o = sentence.count('o')\n",
    "u = sentence.count('u')\n",
    "number_of_vowels = a + e + i + o + u\n",
    "print(number_of_vowels)"
   ]
  },
  {
   "cell_type": "code",
   "execution_count": 28,
   "id": "c5bdbb12-25ee-47c9-b6a7-b2b21a9799ca",
   "metadata": {},
   "outputs": [
    {
     "name": "stdout",
     "output_type": "stream",
     "text": [
      "sllikSWP\n"
     ]
    }
   ],
   "source": [
    "'''3. Given a string, reverse the order of characters using string slicing and print\n",
    "the reversed string.'''\n",
    "\n",
    "given_string = \"PWSkills\"\n",
    "reversed_string = given_string[-1::-1]\n",
    "print(reversed_string)"
   ]
  },
  {
   "cell_type": "code",
   "execution_count": 32,
   "id": "f499e68c-3f69-4f97-815b-3ebbee02fb79",
   "metadata": {},
   "outputs": [
    {
     "name": "stdin",
     "output_type": "stream",
     "text": [
      "Enter a string :\n",
      " malayalam\n"
     ]
    },
    {
     "name": "stdout",
     "output_type": "stream",
     "text": [
      "The given string : 'malayalam', is a palindrome.\n"
     ]
    }
   ],
   "source": [
    "'''4. Write a program that takes a string as input and checks if it is a palindrome\n",
    "(reads the same forwards and backwards).'''\n",
    "\n",
    "string_input = input(\"Enter a string :\\n\")\n",
    "palindrome = string_input[-1::-1]\n",
    "if string_input == palindrome:\n",
    "    print(f\"The given string : '{string_input}', is a palindrome.\")\n",
    "else:\n",
    "    print(f\"The given string : '{string_input}', is not a palindrome.\")"
   ]
  },
  {
   "cell_type": "code",
   "execution_count": 33,
   "id": "6c92fa56-37a5-4ba8-a4f6-95bf947ae23e",
   "metadata": {},
   "outputs": [
    {
     "name": "stdin",
     "output_type": "stream",
     "text": [
      "Enter a string with spaces:\n",
      "        amit raj       \n"
     ]
    },
    {
     "name": "stdout",
     "output_type": "stream",
     "text": [
      "amit raj\n"
     ]
    }
   ],
   "source": [
    "'''5. Create a program that takes a string as input and removes all the spaces from\n",
    "it. Print the modified string without spaces.'''\n",
    "\n",
    "a = input(\"Enter a string with spaces:\\n\")\n",
    "stripped_a = a.strip()\n",
    "print(stripped_a)"
   ]
  },
  {
   "cell_type": "code",
   "execution_count": null,
   "id": "0c3a76ce-1f5a-45e6-8de0-344492b446f1",
   "metadata": {},
   "outputs": [],
   "source": []
  }
 ],
 "metadata": {
  "kernelspec": {
   "display_name": "Python 3 (ipykernel)",
   "language": "python",
   "name": "python3"
  },
  "language_info": {
   "codemirror_mode": {
    "name": "ipython",
    "version": 3
   },
   "file_extension": ".py",
   "mimetype": "text/x-python",
   "name": "python",
   "nbconvert_exporter": "python",
   "pygments_lexer": "ipython3",
   "version": "3.10.8"
  }
 },
 "nbformat": 4,
 "nbformat_minor": 5
}
